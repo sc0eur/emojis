{
 "cells": [
  {
   "cell_type": "code",
   "execution_count": 53,
   "metadata": {},
   "outputs": [],
   "source": [
    "from nltk.stem import PorterStemmer\n",
    "from nltk import word_tokenize\n",
    "import os\n",
    "from os import listdir\n",
    "from os.path import isfile, join\n",
    "from nltk.corpus import stopwords\n",
    "  \n",
    "\n",
    "def norm(text):\n",
    "    try:\n",
    "        text = word_tokenize(text)\n",
    "\n",
    "        lemmatizer = PorterStemmer()\n",
    "        word_list = [lemmatizer.stem(textik).lower() for textik in text]\n",
    "        filtered_words = [word for word in word_list if word not in stopwords.words('english')]\n",
    "        return filtered_words\n",
    "    except:\n",
    "        return []\n",
    "    \n",
    "    \n",
    "def get_filename(file):\n",
    "    try:\n",
    "        base=os.path.basename('/hack/{}'.format(file))\n",
    "\n",
    "        return norm(' '.join(os.path.splitext(base)[0].split('_')))\n",
    "\n",
    "    except:\n",
    "        return []\n",
    "    \n",
    "    \n",
    "def get_emoji(word, file_path='/home/yura/hack/Emoji/'):\n",
    "    \n",
    "    try:\n",
    "        lis = []\n",
    "        onlyfiles = [f for f in listdir(file_path) if isfile(join(file_path, f))]\n",
    "        for file in onlyfiles:\n",
    "            if norm(word)[0] in get_filename(file):\n",
    "                lis.append(file)\n",
    "        return lis        \n",
    "    except:\n",
    "        return ''"
   ]
  },
  {
   "cell_type": "code",
   "execution_count": 57,
   "metadata": {},
   "outputs": [
    {
     "data": {
      "text/plain": [
       "['Loudly_Crying_Face_Emoji_60x60.png', 'Crying_Face_Emoji_60x60.png']"
      ]
     },
     "execution_count": 57,
     "metadata": {},
     "output_type": "execute_result"
    }
   ],
   "source": [
    "get_emoji('cry')"
   ]
  },
  {
   "cell_type": "code",
   "execution_count": null,
   "metadata": {},
   "outputs": [],
   "source": []
  }
 ],
 "metadata": {
  "kernelspec": {
   "display_name": "Python 3",
   "language": "python",
   "name": "python3"
  },
  "language_info": {
   "codemirror_mode": {
    "name": "ipython",
    "version": 3
   },
   "file_extension": ".py",
   "mimetype": "text/x-python",
   "name": "python",
   "nbconvert_exporter": "python",
   "pygments_lexer": "ipython3",
   "version": "3.7.1"
  }
 },
 "nbformat": 4,
 "nbformat_minor": 2
}
